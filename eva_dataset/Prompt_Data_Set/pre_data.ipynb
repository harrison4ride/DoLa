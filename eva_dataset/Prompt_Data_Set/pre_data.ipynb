{
 "cells": [
  {
   "cell_type": "code",
   "execution_count": 1,
   "metadata": {},
   "outputs": [
    {
     "name": "stdout",
     "output_type": "stream",
     "text": [
      "Lines successfully saved to /home/hxxzhang/DoLa/eva_dataset/Prompt_Data_Set/Python/LLM_All_Time2.json.\n"
     ]
    }
   ],
   "source": [
    "import json\n",
    "\n",
    "# Input file path and output JSON file path\n",
    "input_file_path = \"/home/hxxzhang/DoLa/eva_dataset/Prompt_Data_Set/Python/LLM_All_Time.json\"\n",
    "output_json_path = \"/home/hxxzhang/DoLa/eva_dataset/Prompt_Data_Set/Python/LLM_All_Time2.json\"\n",
    "\n",
    "try:\n",
    "    # Open the input file and read line by line\n",
    "    with open(input_file_path, 'r', encoding='utf-8') as infile:\n",
    "        lines = infile.readlines()  # Read all lines into a list\n",
    "\n",
    "    # Process lines if needed (e.g., strip whitespace or transform content)\n",
    "    processed_lines = [line.strip() for line in lines if line.strip()]  # Remove empty lines and strip whitespace\n",
    "\n",
    "    # Save the lines to a JSON file\n",
    "    with open(output_json_path, 'w', encoding='utf-8') as outfile:\n",
    "        json.dump(processed_lines, outfile, ensure_ascii=False, indent=4)\n",
    "\n",
    "    print(f\"Lines successfully saved to {output_json_path}.\")\n",
    "\n",
    "except FileNotFoundError:\n",
    "    print(\"Input file not found. Please check the file path.\")\n",
    "except Exception as e:\n",
    "    print(f\"An unexpected error occurred: {e}\")"
   ]
  },
  {
   "cell_type": "code",
   "execution_count": 3,
   "metadata": {},
   "outputs": [
    {
     "name": "stdout",
     "output_type": "stream",
     "text": [
      "Processed data successfully saved to /home/hxxzhang/DoLa/eva_dataset/Prompt_Data_Set/Python/LLM_Recent2.json.\n"
     ]
    }
   ],
   "source": [
    "import json\n",
    "import re\n",
    "\n",
    "# Input file path and output JSON file path\n",
    "input_file_path = \"/home/hxxzhang/DoLa/eva_dataset/Prompt_Data_Set/Python/LLM_Recent.json\"\n",
    "output_json_path = \"/home/hxxzhang/DoLa/eva_dataset/Prompt_Data_Set/Python/LLM_Recent2.json\"\n",
    "\n",
    "try:\n",
    "    # Read the input file as a single string\n",
    "    with open(input_file_path, 'r', encoding='utf-8') as infile:\n",
    "        data = infile.read()\n",
    "\n",
    "    # Regular expression to match substrings in quotes, considering escaped quotes\n",
    "    pattern = r'\"((?:[^\"\\\\]|\\\\.)*?)\"'\n",
    "    matches = re.findall(pattern, data)\n",
    "\n",
    "    # Decode the escaped characters (e.g., \\\" -> \")\n",
    "    processed_data = [match.replace('\\\\\"', '\"') for match in matches]\n",
    "\n",
    "    # Save the processed data to a JSON file\n",
    "    with open(output_json_path, 'w', encoding='utf-8') as outfile:\n",
    "        json.dump(processed_data, outfile, ensure_ascii=False, indent=4)\n",
    "\n",
    "    print(f\"Processed data successfully saved to {output_json_path}.\")\n",
    "\n",
    "except FileNotFoundError:\n",
    "    print(\"Input file not found. Please check the file path.\")\n",
    "except Exception as e:\n",
    "    print(f\"An unexpected error occurred: {e}\")"
   ]
  },
  {
   "cell_type": "code",
   "execution_count": 6,
   "metadata": {},
   "outputs": [
    {
     "name": "stdout",
     "output_type": "stream",
     "text": [
      "http\n",
      "http1\n",
      "http3\n",
      "os-http\n",
      "pcap2http\n",
      "phoopy-http\n",
      "pushjack-http2\n",
      "pypomes-http\n",
      "pytest-http\n",
      "agent.http\n",
      "antares-http\n",
      "arsenalqa-http\n",
      "astra-http\n",
      "auth-http\n",
      "behave-http\n",
      "canonicalwebteam.http\n",
      "CodernityDB-HTTP\n",
      "csv2http\n",
      "curio-http\n",
      "curl-http\n",
      "on_http\n",
      "opensitua-http\n",
      "progressed-http\n",
      "pulumi-http\n",
      "pwbus-http\n",
      "py2http\n",
      "pyodide-http\n",
      "activetick-http\n",
      "aio.http\n",
      "alifunc-http\n",
      "applipy-http\n",
      "async_http\n",
      "async-http2\n",
      "basic-http\n",
      "CANedge-HTTP\n",
      "cd-http\n",
      "comexio-http\n",
      "consensual-http\n",
      "csp-http\n",
      "ftp2http\n"
     ]
    }
   ],
   "source": [
    "from pip_search import search\n",
    "ans = search('http')\n",
    "for pck in ans:\n",
    "    print(pck.name)"
   ]
  },
  {
   "cell_type": "code",
   "execution_count": 7,
   "metadata": {},
   "outputs": [
    {
     "ename": "AttributeError",
     "evalue": "'generator' object has no attribute 'names'",
     "output_type": "error",
     "traceback": [
      "\u001b[0;31m---------------------------------------------------------------------------\u001b[0m",
      "\u001b[0;31mAttributeError\u001b[0m                            Traceback (most recent call last)",
      "Cell \u001b[0;32mIn[7], line 1\u001b[0m\n\u001b[0;32m----> 1\u001b[0m \u001b[43mans\u001b[49m\u001b[38;5;241;43m.\u001b[39;49m\u001b[43mnames\u001b[49m\n",
      "\u001b[0;31mAttributeError\u001b[0m: 'generator' object has no attribute 'names'"
     ]
    }
   ],
   "source": [
    "ans.names"
   ]
  },
  {
   "cell_type": "code",
   "execution_count": null,
   "metadata": {},
   "outputs": [],
   "source": []
  }
 ],
 "metadata": {
  "kernelspec": {
   "display_name": "base",
   "language": "python",
   "name": "python3"
  },
  "language_info": {
   "codemirror_mode": {
    "name": "ipython",
    "version": 3
   },
   "file_extension": ".py",
   "mimetype": "text/x-python",
   "name": "python",
   "nbconvert_exporter": "python",
   "pygments_lexer": "ipython3",
   "version": "3.12.4"
  }
 },
 "nbformat": 4,
 "nbformat_minor": 2
}
