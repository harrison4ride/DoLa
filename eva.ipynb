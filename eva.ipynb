{
 "cells": [
  {
   "cell_type": "code",
   "execution_count": 3,
   "metadata": {},
   "outputs": [
    {
     "data": {
      "text/plain": [
       "(1786, 5064, 0.35268562401263825, 2375, 10826)"
      ]
     },
     "execution_count": 3,
     "metadata": {},
     "output_type": "execute_result"
    }
   ],
   "source": [
    "import json\n",
    "# 176 case getting worse\n",
    "with open('./llama3-8b-recent.json','r') as file:\n",
    "    data = json.load(file)\n",
    "\n",
    "sum([i['incorrect']!=[] for i in data['clean']]), len(data['clean']), sum([i['incorrect']!=[] for i in data['clean']])/len(data['clean']), sum([len(i['incorrect']) for i in data['clean']]), sum([len(i['correct']) for i in data['clean']])"
   ]
  },
  {
   "cell_type": "code",
   "execution_count": 1,
   "metadata": {},
   "outputs": [
    {
     "data": {
      "text/plain": [
       "(2128, 5064, 0.42022116903633494, 3350, 11524)"
      ]
     },
     "execution_count": 1,
     "metadata": {},
     "output_type": "execute_result"
    }
   ],
   "source": [
    "import json\n",
    "\n",
    "with open('./llama3-8b-recent-base.json','r') as file:\n",
    "    data = json.load(file)\n",
    "\n",
    "sum([i['incorrect']!=[] for i in data['clean']]), len(data['clean']), sum([i['incorrect']!=[] for i in data['clean']])/len(data['clean']), sum([len(i['incorrect']) for i in data['clean']]), sum([len(i['correct']) for i in data['clean']])"
   ]
  },
  {
   "cell_type": "code",
   "execution_count": 2,
   "metadata": {},
   "outputs": [
    {
     "data": {
      "text/plain": [
       "(1796, 5064, 0.3546603475513428, 2417, 11148)"
      ]
     },
     "execution_count": 2,
     "metadata": {},
     "output_type": "execute_result"
    }
   ],
   "source": [
    "import json\n",
    "# 176 case getting worse\n",
    "with open('./llama3-7b-ddola-test.json','r') as file:\n",
    "    data = json.load(file)\n",
    "\n",
    "sum([i['incorrect']!=[] for i in data['is_correct']]), len(data['is_correct']), sum([i['incorrect']!=[] for i in data['is_correct']])/len(data['is_correct']), sum([len(i['incorrect']) for i in data['is_correct']]), sum([len(i['correct']) for i in data['is_correct']])"
   ]
  },
  {
   "cell_type": "code",
   "execution_count": 5,
   "metadata": {},
   "outputs": [
    {
     "data": {
      "text/plain": [
       "(0.17817913748617767, 0.17991061283236118, 0.22522522522522523)"
      ]
     },
     "execution_count": 5,
     "metadata": {},
     "output_type": "execute_result"
    }
   ],
   "source": [
    "2417/(2417+11148), 2375/(2375+10826), 3350/(3350+11524)"
   ]
  },
  {
   "cell_type": "markdown",
   "metadata": {},
   "source": [
    "# All"
   ]
  },
  {
   "cell_type": "code",
   "execution_count": 1,
   "metadata": {},
   "outputs": [
    {
     "data": {
      "text/plain": [
       "(1345, 5035, 0.2671300893743793, 1737, 8585)"
      ]
     },
     "execution_count": 1,
     "metadata": {},
     "output_type": "execute_result"
    }
   ],
   "source": [
    "import json\n",
    "\n",
    "# 410 case get incorrect after dola\n",
    "with open('./llama3-8b-all.json','r') as file:\n",
    "    data = json.load(file)\n",
    "\n",
    "sum([i['incorrect']!=[] for i in data['clean']]), len(data['clean']), sum([i['incorrect']!=[] for i in data['clean']])/len(data['clean']), sum([len(i['incorrect']) for i in data['clean']]), sum([len(i['correct']) for i in data['clean']])"
   ]
  },
  {
   "cell_type": "code",
   "execution_count": 1,
   "metadata": {},
   "outputs": [
    {
     "data": {
      "text/plain": [
       "(1298, 5035, 0.25779543197616683, 1706, 8569)"
      ]
     },
     "execution_count": 1,
     "metadata": {},
     "output_type": "execute_result"
    }
   ],
   "source": [
    "import json\n",
    "\n",
    "# 410 case get incorrect after dola\n",
    "with open('./llama3-7b-ddola-all-test.json','r') as file:\n",
    "    data = json.load(file)\n",
    "\n",
    "sum([i['incorrect']!=[] for i in data['is_correct']]), len(data['is_correct']), sum([i['incorrect']!=[] for i in data['is_correct']])/len(data['is_correct']), sum([len(i['incorrect']) for i in data['is_correct']]), sum([len(i['correct']) for i in data['is_correct']])"
   ]
  },
  {
   "cell_type": "code",
   "execution_count": 2,
   "metadata": {},
   "outputs": [
    {
     "data": {
      "text/plain": [
       "(0.16828134082542143, 0.16603406326034062)"
      ]
     },
     "execution_count": 2,
     "metadata": {},
     "output_type": "execute_result"
    }
   ],
   "source": [
    "1737/(1737+8585) , 1706/(1706+8569)"
   ]
  },
  {
   "cell_type": "code",
   "execution_count": 5,
   "metadata": {},
   "outputs": [
    {
     "data": {
      "text/plain": [
       "(0.2023296447291788, 0.20703472840605522)"
      ]
     },
     "execution_count": 5,
     "metadata": {},
     "output_type": "execute_result"
    }
   ],
   "source": [
    "1737/(8585) , 1860/(8984)"
   ]
  }
 ],
 "metadata": {
  "kernelspec": {
   "display_name": "dolanew",
   "language": "python",
   "name": "python3"
  },
  "language_info": {
   "codemirror_mode": {
    "name": "ipython",
    "version": 3
   },
   "file_extension": ".py",
   "mimetype": "text/x-python",
   "name": "python",
   "nbconvert_exporter": "python",
   "pygments_lexer": "ipython3",
   "version": "3.10.15"
  }
 },
 "nbformat": 4,
 "nbformat_minor": 2
}
